{
 "cells": [
  {
   "cell_type": "markdown",
   "metadata": {
    "slideshow": {
     "slide_type": "slide"
    }
   },
   "source": [
    "# Blaze: One API to rule them all\n",
    "\n",
    "\n",
    "* Lex Hider\n",
    "* @LexualChocolate\n",
    "* github.com/lexual"
   ]
  },
  {
   "cell_type": "markdown",
   "metadata": {
    "slideshow": {
     "slide_type": "subslide"
    }
   },
   "source": [
    "# Who is Blaze for?\n",
    "\n",
    "## Quiz"
   ]
  },
  {
   "cell_type": "markdown",
   "metadata": {
    "slideshow": {
     "slide_type": "subslide"
    }
   },
   "source": [
    "* Coder 1st, Data/Science 2nd?\n",
    "* Data/Science 1st, Coder 2nd?\n",
    "\n",
    "* Biggest audience is people in group 2.\n",
    "* teach pandas-api 1st, get a long way ;)\n",
    "\n",
    "* prototype on laptop csv, deploy to redshift, same code ;)\n",
    "* optimized for people, not performane"
   ]
  },
  {
   "cell_type": "markdown",
   "metadata": {
    "slideshow": {
     "slide_type": "slide"
    }
   },
   "source": [
    "# Why Python?\n"
   ]
  },
  {
   "cell_type": "markdown",
   "metadata": {
    "slideshow": {
     "slide_type": "fragment"
    }
   },
   "source": [
    "# Why Pandas?\n",
    "\n",
    "* cool_people = df[df.first_name == 'Lex']"
   ]
  },
  {
   "cell_type": "markdown",
   "metadata": {
    "slideshow": {
     "slide_type": "subslide"
    }
   },
   "source": [
    "# Laziness is a Virtue"
   ]
  },
  {
   "cell_type": "markdown",
   "metadata": {
    "slideshow": {
     "slide_type": "slide"
    }
   },
   "source": [
    "* ContinuumIO\n",
    "* 2013 $3M DARPA Grant\n",
    "* Bokeh/Blaze/Dask?"
   ]
  },
  {
   "cell_type": "markdown",
   "metadata": {
    "slideshow": {
     "slide_type": "subslide"
    }
   },
   "source": [
    "# Blaze has become many sub-projects\n",
    "\n",
    "* odo (the library formerly known as into)\n",
    "* datashape\n",
    "* blaze\n",
    "* blaze server (time permitting)"
   ]
  },
  {
   "cell_type": "markdown",
   "metadata": {
    "slideshow": {
     "slide_type": "slide"
    }
   },
   "source": [
    "# Problems solved:\n",
    "\n",
    "* Pandas-like interface to different data (blaze)\n",
    "* Easily move your data between formats (odo)\n",
    "* Easily move your data from place to place. (odo)\n",
    "* Tech agnostic description of data format/schema (datashape)\n",
    "* Process dataset larger than RAM (blaze)"
   ]
  },
  {
   "cell_type": "markdown",
   "metadata": {
    "slideshow": {
     "slide_type": "slide"
    }
   },
   "source": [
    "# Odo\n",
    "\n",
    "* Database? I only know Excel\n",
    "* SQL? I only know Pandas\n",
    "* JSON? That scary guy with the mask?\n",
    "* AWS/s3/boto? I just want my data in the cloud\n",
    "* ssh? don't sush me buddy!"
   ]
  },
  {
   "cell_type": "code",
   "execution_count": null,
   "metadata": {
    "collapsed": false,
    "slideshow": {
     "slide_type": "subslide"
    }
   },
   "outputs": [],
   "source": [
    "# ODO\n",
    "\n",
    ">> conda install blaze\n",
    "\n",
    ">> pip install blaze\n",
    "\n",
    "# blaze will install odo, datashape as dependency\n",
    "\n",
    "# come see my talk on Sunday on conda/anaconda/miniconda!!!\n"
   ]
  },
  {
   "cell_type": "code",
   "execution_count": null,
   "metadata": {
    "collapsed": true,
    "slideshow": {
     "slide_type": "subslide"
    }
   },
   "outputs": [],
   "source": [
    "from odo import odo\n",
    "\n",
    "odo(source, target)\n",
    "\n",
    "# e.g.\n",
    "\n",
    "odo(df, 'foobar.csv')"
   ]
  },
  {
   "cell_type": "code",
   "execution_count": null,
   "metadata": {
    "collapsed": true,
    "slideshow": {
     "slide_type": "subslide"
    }
   },
   "outputs": [],
   "source": [
    "# ODO CLI\n",
    "\n",
    "bash>> odo data_2015-*.csv sqlite:///data.db::mydata\n",
    "            \n",
    "# Works with URLs.           "
   ]
  },
  {
   "cell_type": "markdown",
   "metadata": {
    "slideshow": {
     "slide_type": "subslide"
    }
   },
   "source": [
    "# Picks path with lowest cost\n",
    "\n",
    "https://odo.readthedocs.org/en/latest/_images/conversions.png"
   ]
  },
  {
   "cell_type": "code",
   "execution_count": null,
   "metadata": {
    "collapsed": true,
    "slideshow": {
     "slide_type": "subslide"
    }
   },
   "outputs": [],
   "source": [
    "# CSV\n",
    "\n",
    "df = odo('my.csv', pd.DataFrame)\n",
    "\n",
    "odo('my.csv', 'sqlite://data.db::table_name')\n",
    "\n",
    "odo('my.csv', 'postgresql://localhost::nyc')\n",
    "\n",
    "odo('postgresql://localhost::nyc', 'nyc.csv')"
   ]
  },
  {
   "cell_type": "code",
   "execution_count": null,
   "metadata": {
    "collapsed": true,
    "slideshow": {
     "slide_type": "subslide"
    }
   },
   "outputs": [],
   "source": [
    "# Multiple files\n",
    "\n",
    "odo('data-2015-05-*.csv', pd.DataFrame)\n",
    "\n",
    "# gzipped\n",
    "\n",
    "odo('data-2015-05-*.csv.gz', 'sqlite://data.db::my_data')"
   ]
  },
  {
   "cell_type": "code",
   "execution_count": null,
   "metadata": {
    "collapsed": true,
    "slideshow": {
     "slide_type": "subslide"
    }
   },
   "outputs": [],
   "source": [
    "# JSON\n",
    "\n",
    "odo('postgresql://localhost::nyc', 'nyc.json')\n",
    "odo('nyc.json', 'postgresql://localhost::nyc')\n",
    "odo('postgresql://localhost::nyc', 'json://nyc.json')\n",
    "# [{'a': a_val, 'b': b_val},\n",
    "# {'a': a_val, 'b': b_val}]\n",
    "\n",
    "odo('postgresql://localhost::nyc', 'jsonlines://nyc.json')\n",
    "# {'a': a_val, 'b': b_val}\n",
    "# {'a': a_val, 'b': b_val}\n",
    "\n"
   ]
  },
  {
   "cell_type": "code",
   "execution_count": null,
   "metadata": {
    "collapsed": true,
    "slideshow": {
     "slide_type": "subslide"
    }
   },
   "outputs": [],
   "source": [
    "# SQL (not fastest option chosen)\n",
    "# e.g. POSTGRES COPY\n",
    "# not reading into pandas 1st\n",
    "\n",
    "* any sqlalchemy dialect."
   ]
  },
  {
   "cell_type": "code",
   "execution_count": null,
   "metadata": {
    "collapsed": true,
    "slideshow": {
     "slide_type": "subslide"
    }
   },
   "outputs": [],
   "source": [
    "# AWS/S3/RedShift\n",
    "# populate ~/.boto with credentials\n",
    "\n",
    "df = odo('s3://mybucket/myfile.csv', pd.DataFrame)\n",
    "\n",
    "# upload\n",
    "odo(df, 's3://mybucket/my_new_file.csv'"
   ]
  },
  {
   "cell_type": "code",
   "execution_count": null,
   "metadata": {
    "collapsed": true,
    "slideshow": {
     "slide_type": "subslide"
    }
   },
   "outputs": [],
   "source": [
    "# SSH (uses paramiko)\n",
    "\n",
    "df = odo('ssh://username@hostname:/path/to/myfile.csv', pd.DataFrame)\n",
    "\n",
    "odo(df, 'ssh://username@hostname:/path/to/myfile.csv')\n",
    "\n",
    "\n",
    "df = odo('ssh://username@hostname:/path/to/myfile.csv', 'postgresql://localhost::nyc')\n"
   ]
  },
  {
   "cell_type": "markdown",
   "metadata": {
    "slideshow": {
     "slide_type": "subslide"
    }
   },
   "source": [
    "# Much more, ...\n",
    "\n",
    "* bcolz\n",
    "* hdf5\n",
    "* hdfs (hadoop)\n",
    "* mongo/spark\n",
    "\n",
    "* extendable"
   ]
  },
  {
   "cell_type": "markdown",
   "metadata": {
    "slideshow": {
     "slide_type": "subslide"
    }
   },
   "source": [
    "# ODO\n",
    "\n",
    "* Just calls out to other libraries\n",
    "* e.g. sqlalchemy, pandas.read_csv\n",
    "* can pass in kwargs, e.g. delimiter='\\t'"
   ]
  },
  {
   "cell_type": "code",
   "execution_count": null,
   "metadata": {
    "collapsed": true,
    "slideshow": {
     "slide_type": "subslide"
    }
   },
   "outputs": [],
   "source": [
    "from odo import drop\n",
    "\n",
    "drop('sqlite://data.db::my_table')"
   ]
  },
  {
   "cell_type": "markdown",
   "metadata": {
    "slideshow": {
     "slide_type": "subslide"
    }
   },
   "source": [
    "* How do I tell it that column <date> is a date not a string?"
   ]
  },
  {
   "cell_type": "markdown",
   "metadata": {
    "slideshow": {
     "slide_type": "slide"
    }
   },
   "source": [
    "# DataShape\n",
    "\n",
    "* SQL Schema\n",
    "* Numpy/Pandas dtypes\n",
    "* DataShape"
   ]
  },
  {
   "cell_type": "markdown",
   "metadata": {
    "slideshow": {
     "slide_type": "subslide"
    }
   },
   "source": [
    "# variable length\n",
    "\n",
    "* 'var * {name: string, joined: datetime, credit: float64}'\n",
    "\n",
    "# fixed length\n",
    "\n",
    "* '10 * {name: string, joined: datetime, credit: float64}'"
   ]
  },
  {
   "cell_type": "markdown",
   "metadata": {
    "slideshow": {
     "slide_type": "subslide"
    }
   },
   "source": [
    "# string length\n",
    "* string[100]\n",
    "\n",
    "# nullable?\n",
    "* ?int32\n",
    "\n"
   ]
  },
  {
   "cell_type": "code",
   "execution_count": null,
   "metadata": {
    "collapsed": true,
    "slideshow": {
     "slide_type": "subslide"
    }
   },
   "outputs": [],
   "source": [
    "dshape = '''var * {\n",
    "    name: string,\n",
    "    joined: datetime,\n",
    "    credit: float64}'''\n",
    "df = odo('my_data.csv', 'sqlite://data.db::my_data', dshape=dshape)"
   ]
  },
  {
   "cell_type": "markdown",
   "metadata": {
    "slideshow": {
     "slide_type": "slide"
    }
   },
   "source": [
    "# Blaze\n",
    "\n",
    "* Separate what you want to calculate\n",
    "* ... from your data\n",
    "\n",
    "* build expressions\n",
    "\n",
    "* calculate only when needed\n",
    "\n",
    "* switch backends seamlessly ;)"
   ]
  },
  {
   "cell_type": "markdown",
   "metadata": {
    "slideshow": {
     "slide_type": "subslide"
    }
   },
   "source": [
    "# Blaze Backends\n",
    "\n",
    "* Pure python (iterators, lists, dicts, etc)\n",
    "* Pandas\n",
    "* Pandas (chunked)\n",
    "* SQL/SQL_Alchemy\n",
    "* PySpark\n",
    "* PyTables"
   ]
  },
  {
   "cell_type": "code",
   "execution_count": null,
   "metadata": {
    "collapsed": true,
    "slideshow": {
     "slide_type": "subslide"
    }
   },
   "outputs": [],
   "source": [
    "# Note\n",
    "\n",
    "* dshape can be inferred and tweaked\n",
    "\n",
    "* don't need to be so explicit ;)"
   ]
  },
  {
   "cell_type": "code",
   "execution_count": 11,
   "metadata": {
    "collapsed": false,
    "slideshow": {
     "slide_type": "subslide"
    }
   },
   "outputs": [],
   "source": [
    "# apologies for stealing not interesting dataset from docs ;(\n",
    "\n",
    "from blaze import Symbol\n",
    "\n",
    "dshape = '''var * {\n",
    "    id: int,\n",
    "    name: string,\n",
    "    amount: int\n",
    "}'''\n",
    "\n",
    "accounts = Symbol(name='accounts',\n",
    "                  dshape=dshape)\n",
    "cool_people = accounts[accounts.name == 'Lex']\n",
    "# no computation has happened,\n",
    "# we just built an expression!"
   ]
  },
  {
   "cell_type": "code",
   "execution_count": 39,
   "metadata": {
    "collapsed": false,
    "slideshow": {
     "slide_type": "subslide"
    }
   },
   "outputs": [
    {
     "data": {
      "text/plain": [
       "[[3, 'Lex', 300]]"
      ]
     },
     "execution_count": 39,
     "metadata": {},
     "output_type": "execute_result"
    }
   ],
   "source": [
    "# Pure python, lists, iterators\n",
    "L = [\n",
    "    [1, 'Alice',   100],\n",
    "    [2, 'Bob',    -200],\n",
    "    [3, 'Lex', 300],\n",
    "    [4, 'Denis',   400],\n",
    "    [5, 'Edith',  -500]\n",
    "    ]\n",
    "\n",
    "from blaze import compute\n",
    "result = compute(cool_people, L)\n",
    "list(result)  # list() because iterator"
   ]
  },
  {
   "cell_type": "code",
   "execution_count": null,
   "metadata": {
    "collapsed": true,
    "slideshow": {
     "slide_type": "subslide"
    }
   },
   "outputs": [],
   "source": [
    "* Now we can run our \"cool_people\" on any native backend we choose.\n",
    "\n",
    "* Pandas\n",
    "* SQL\n",
    "* MongoDB\n",
    "* ..."
   ]
  },
  {
   "cell_type": "code",
   "execution_count": 32,
   "metadata": {
    "collapsed": false,
    "slideshow": {
     "slide_type": "subslide"
    }
   },
   "outputs": [
    {
     "data": {
      "text/html": [
       "<div>\n",
       "<table border=\"1\" class=\"dataframe\">\n",
       "  <thead>\n",
       "    <tr style=\"text-align: right;\">\n",
       "      <th></th>\n",
       "      <th>id</th>\n",
       "      <th>name</th>\n",
       "      <th>amount</th>\n",
       "    </tr>\n",
       "  </thead>\n",
       "  <tbody>\n",
       "    <tr>\n",
       "      <th>2</th>\n",
       "      <td>3</td>\n",
       "      <td>Lex</td>\n",
       "      <td>300</td>\n",
       "    </tr>\n",
       "  </tbody>\n",
       "</table>\n",
       "</div>"
      ],
      "text/plain": [
       "   id name  amount\n",
       "2   3  Lex     300"
      ]
     },
     "execution_count": 32,
     "metadata": {},
     "output_type": "execute_result"
    }
   ],
   "source": [
    "\n",
    "import pandas as pd\n",
    "df = pd.DataFrame(L, columns=['id', 'name', 'amount'])\n",
    "compute(cool_people, df)"
   ]
  },
  {
   "cell_type": "code",
   "execution_count": 36,
   "metadata": {
    "collapsed": false
   },
   "outputs": [
    {
     "data": {
      "text/html": [
       "<table border=\"1\" class=\"dataframe\">\n",
       "  <thead>\n",
       "    <tr style=\"text-align: right;\">\n",
       "      <th></th>\n",
       "      <th>id</th>\n",
       "      <th>name</th>\n",
       "      <th>amount</th>\n",
       "    </tr>\n",
       "  </thead>\n",
       "  <tbody>\n",
       "    <tr>\n",
       "      <th>0</th>\n",
       "      <td>1</td>\n",
       "      <td>Alice</td>\n",
       "      <td>100</td>\n",
       "    </tr>\n",
       "    <tr>\n",
       "      <th>1</th>\n",
       "      <td>2</td>\n",
       "      <td>Bob</td>\n",
       "      <td>-200</td>\n",
       "    </tr>\n",
       "    <tr>\n",
       "      <th>2</th>\n",
       "      <td>3</td>\n",
       "      <td>Lex</td>\n",
       "      <td>300</td>\n",
       "    </tr>\n",
       "    <tr>\n",
       "      <th>3</th>\n",
       "      <td>4</td>\n",
       "      <td>Denis</td>\n",
       "      <td>400</td>\n",
       "    </tr>\n",
       "    <tr>\n",
       "      <th>4</th>\n",
       "      <td>5</td>\n",
       "      <td>Edith</td>\n",
       "      <td>-500</td>\n",
       "    </tr>\n",
       "  </tbody>\n",
       "</table>"
      ],
      "text/plain": [
       "   id   name  amount\n",
       "0   1  Alice     100\n",
       "1   2    Bob    -200\n",
       "2   3    Lex     300\n",
       "3   4  Denis     400\n",
       "4   5  Edith    -500"
      ]
     },
     "execution_count": 36,
     "metadata": {},
     "output_type": "execute_result"
    }
   ],
   "source": [
    "# odo(df, 'sqlite:///data.db::accounts')\n",
    "# commented out so not written multiple when writing slides ^^^\n",
    "from blaze import Data\n",
    "data = Data('sqlite:///data.db')\n",
    "data.accounts"
   ]
  },
  {
   "cell_type": "code",
   "execution_count": 37,
   "metadata": {
    "collapsed": false,
    "slideshow": {
     "slide_type": "subslide"
    }
   },
   "outputs": [
    {
     "data": {
      "text/html": [
       "100"
      ],
      "text/plain": [
       "100"
      ]
     },
     "execution_count": 37,
     "metadata": {},
     "output_type": "execute_result"
    }
   ],
   "source": [
    "data.accounts.amount.sum()"
   ]
  },
  {
   "cell_type": "markdown",
   "metadata": {
    "slideshow": {
     "slide_type": "subslide"
    }
   },
   "source": [
    "* Now you can use your Pandas-like API on any backend,\n",
    "* just need to learn the API.\n",
    "\n",
    "* References:\n",
    "    * [Blaze for Pandas people](http://blaze.pydata.org/en/latest/rosetta-pandas.html)\n",
    "    * [Blaze for SQL people](http://blaze.pydata.org/en/latest/rosetta-sql.html)"
   ]
  },
  {
   "cell_type": "markdown",
   "metadata": {
    "slideshow": {
     "slide_type": "subslide"
    }
   },
   "source": [
    "# Hilights\n",
    "* by (group-by)\n",
    "* join\n",
    "* merge (group-by multiple columns)\n",
    "\n",
    "* transform\n",
    "\n",
    "* map"
   ]
  },
  {
   "cell_type": "markdown",
   "metadata": {
    "slideshow": {
     "slide_type": "subslide"
    }
   },
   "source": [
    "# before then\n",
    "\n",
    "* can choose backend where chunk's pandas for e.g.\n",
    "* can use dask for fancy pants out-of-core stuff\n",
    "* can parallel some code\n",
    "\n",
    "::\n",
    "\n",
    "    import multiprocessing  \n",
    "    pool = multiprocessing.Pool(4)  # Four processes  \n",
    "    compute(d.my_column.count(), map=pool.map)  # Parallel over four cores  \n",
    "    \n",
    "* not magic silver bullet, many caveats"
   ]
  },
  {
   "cell_type": "code",
   "execution_count": null,
   "metadata": {
    "collapsed": true,
    "slideshow": {
     "slide_type": "subslide"
    }
   },
   "outputs": [],
   "source": [
    "accounts['name']\n",
    "accounts.name\n",
    "\n",
    "accounts.amount * 2\n",
    "\n",
    "accounts.map(lambda x: x * 2)"
   ]
  },
  {
   "cell_type": "code",
   "execution_count": null,
   "metadata": {
    "collapsed": true,
    "slideshow": {
     "slide_type": "subslide"
    }
   },
   "outputs": [],
   "source": [
    "# API Highlights: by/merge\n",
    "# GROUP BY\n",
    "\n",
    "by(accounts.name,\n",
    "  total_amount=accounts.amount.sum()\n",
    "  avg_amount=accounts.amount.mean()\n",
    "  )\n",
    "\n",
    "# multiple columns\n",
    "by(merge(accounts.first, accounts.last),\n",
    "  total_amount=accounts.amount.sum()\n",
    "  avg_amount=accounts.amount.mean()\n",
    "  )\n"
   ]
  },
  {
   "cell_type": "code",
   "execution_count": null,
   "metadata": {
    "collapsed": true,
    "slideshow": {
     "slide_type": "subslide"
    }
   },
   "outputs": [],
   "source": [
    "# API Highlights: transform\n",
    "# Add columns\n",
    "amended = transform(accounts,\n",
    "                    amount_in_cents=accounts.amount * 100)"
   ]
  },
  {
   "cell_type": "code",
   "execution_count": null,
   "metadata": {
    "collapsed": true,
    "slideshow": {
     "slide_type": "subslide"
    }
   },
   "outputs": [],
   "source": [
    "# API Highlights: \n",
    "amended = accounts.relabel(name='customers_firstname')"
   ]
  },
  {
   "cell_type": "code",
   "execution_count": null,
   "metadata": {
    "collapsed": true,
    "slideshow": {
     "slide_type": "subslide"
    }
   },
   "outputs": [],
   "source": [
    "# API Highlights: like\n",
    "# string match\n",
    "\n",
    "accounts.like(name='*lex*')"
   ]
  },
  {
   "cell_type": "code",
   "execution_count": null,
   "metadata": {
    "collapsed": true,
    "slideshow": {
     "slide_type": "subslide"
    }
   },
   "outputs": [],
   "source": [
    "# API Highlights: concat\n",
    "\n",
    "all_accounts = concat(accountsA, accountsB)\n",
    "\n",
    "# join\n",
    "\n",
    "join(accountsA, otherB, 'id')"
   ]
  },
  {
   "cell_type": "code",
   "execution_count": null,
   "metadata": {
    "collapsed": true,
    "slideshow": {
     "slide_type": "subslide"
    }
   },
   "outputs": [],
   "source": [
    "# API Highlights: summary\n",
    "# more\n",
    "\n",
    ".distinct()\n",
    "\n",
    "# frequency count\n",
    ".count_values()\n",
    "\n",
    "..."
   ]
  },
  {
   "cell_type": "markdown",
   "metadata": {
    "slideshow": {
     "slide_type": "slide"
    }
   },
   "source": [
    "# Blaze Server\n",
    "\n",
    "[Blaze Server](http://blaze.pydata.org/en/latest/server.html)"
   ]
  },
  {
   "cell_type": "markdown",
   "metadata": {
    "slideshow": {
     "slide_type": "slide"
    }
   },
   "source": [
    "# Conclusions\n",
    "\n",
    "* Only support lowest common denominator\n",
    "* This might get you along way\n",
    "* Not answer to every problem.\n",
    "* Learn Pandas/Blaze/odo 1st programming very productive!\n",
    "* Perhaps Pandas should implement some nicer APIs?\n",
    "* Separating computation from data is good\n",
    "* RTFM ;)"
   ]
  },
  {
   "cell_type": "markdown",
   "metadata": {
    "slideshow": {
     "slide_type": "slide"
    }
   },
   "source": [
    "# Questions?\n",
    "\n",
    "\n",
    "* We're hiring grad/junior-mid come say hi ;)"
   ]
  },
  {
   "cell_type": "code",
   "execution_count": null,
   "metadata": {
    "collapsed": true
   },
   "outputs": [],
   "source": []
  }
 ],
 "metadata": {
  "celltoolbar": "Slideshow",
  "kernelspec": {
   "display_name": "Python 3",
   "language": "python",
   "name": "python3"
  },
  "language_info": {
   "codemirror_mode": {
    "name": "ipython",
    "version": 3
   },
   "file_extension": ".py",
   "mimetype": "text/x-python",
   "name": "python",
   "nbconvert_exporter": "python",
   "pygments_lexer": "ipython3",
   "version": "3.4.3"
  }
 },
 "nbformat": 4,
 "nbformat_minor": 0
}
